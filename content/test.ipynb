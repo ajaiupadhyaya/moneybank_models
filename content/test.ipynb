{
 "cells": [
  {
   "cell_type": "code",
   "execution_count": 17,
   "id": "0ecc57b1",
   "metadata": {},
   "outputs": [
    {
     "name": "stdout",
     "output_type": "stream",
     "text": [
      "Kernelspec patched: {'display_name': 'venv', 'language': 'python', 'name': 'python3'}\n"
     ]
    }
   ],
   "source": [
    "import nbformat\n",
    "\n",
    "# Load your notebook\n",
    "nb = nbformat.read(\"bond_model_fixed.ipynb\", as_version=4)\n",
    "\n",
    "# If kernelspec exists but has no `name`, copy `kernel_name` into it\n",
    "ks = nb.metadata.get(\"kernelspec\", {})\n",
    "if \"name\" not in ks:\n",
    "    ks[\"name\"] = ks.get(\"kernel_name\", \"python3\")\n",
    "    ks.setdefault(\"language\", \"python\")\n",
    "    nb.metadata[\"kernelspec\"] = ks\n",
    "\n",
    "# Write it back\n",
    "nbformat.write(nb, \"bond_model_fixed.ipynb\")\n",
    "print(\"Kernelspec patched:\", nb.metadata[\"kernelspec\"])"
   ]
  },
  {
   "cell_type": "code",
   "execution_count": 18,
   "id": "aad5bf84",
   "metadata": {},
   "outputs": [
    {
     "ename": "AttributeError",
     "evalue": "module 'nbformat' has no attribute 'normalize'",
     "output_type": "error",
     "traceback": [
      "\u001b[31m---------------------------------------------------------------------------\u001b[39m",
      "\u001b[31mAttributeError\u001b[39m                            Traceback (most recent call last)",
      "\u001b[36mCell\u001b[39m\u001b[36m \u001b[39m\u001b[32mIn[18]\u001b[39m\u001b[32m, line 7\u001b[39m\n\u001b[32m      5\u001b[39m \u001b[38;5;66;03m# Load as v4 and normalize (adds missing cell IDs)\u001b[39;00m\n\u001b[32m      6\u001b[39m nb = nbformat.read(NB_PATH, as_version=\u001b[32m4\u001b[39m)\n\u001b[32m----> \u001b[39m\u001b[32m7\u001b[39m nb = \u001b[43mnbformat\u001b[49m\u001b[43m.\u001b[49m\u001b[43mnormalize\u001b[49m(nb)\n\u001b[32m      9\u001b[39m \u001b[38;5;66;03m# Fix kernelspec\u001b[39;00m\n\u001b[32m     10\u001b[39m ks = nb.metadata.get(\u001b[33m\"\u001b[39m\u001b[33mkernelspec\u001b[39m\u001b[33m\"\u001b[39m, {})\n",
      "\u001b[31mAttributeError\u001b[39m: module 'nbformat' has no attribute 'normalize'"
     ]
    }
   ],
   "source": [
    "import nbformat\n",
    "\n",
    "NB_PATH = \"bond_model_fixed.ipynb\"  # ← set this exactly, e.g. \"bond_model_fixed.ipynb\"\n",
    "\n",
    "# Load as v4 and normalize (adds missing cell IDs)\n",
    "nb = nbformat.read(NB_PATH, as_version=4)\n",
    "nb = nbformat.normalize(nb)\n",
    "\n",
    "# Fix kernelspec\n",
    "ks = nb.metadata.get(\"kernelspec\", {})\n",
    "ks[\"name\"]     = ks.get(\"kernel_name\", \"python3\")\n",
    "ks[\"language\"] = ks.get(\"language\", \"python\")\n",
    "nb.metadata[\"kernelspec\"] = ks\n",
    "\n",
    "# Write back\n",
    "nbformat.write(nb, NB_PATH)\n",
    "print(\"Patched:\", NB_PATH, \"\\nKernelspec:\", nb.metadata[\"kernelspec\"])"
   ]
  }
 ],
 "metadata": {
  "language_info": {
   "name": "python"
  }
 },
 "nbformat": 4,
 "nbformat_minor": 5
}
